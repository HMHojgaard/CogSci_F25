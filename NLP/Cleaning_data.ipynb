{
 "cells": [
  {
   "cell_type": "markdown",
   "id": "0757674d",
   "metadata": {},
   "source": [
    "# Clean & Preprocess data"
   ]
  },
  {
   "cell_type": "markdown",
   "id": "c0d56465",
   "metadata": {},
   "source": [
    "## Setup Chunk"
   ]
  },
  {
   "cell_type": "code",
   "execution_count": null,
   "id": "e5d3cfb5",
   "metadata": {},
   "outputs": [],
   "source": [
    "%pip install pandas matplotlib seaborn"
   ]
  },
  {
   "cell_type": "code",
   "execution_count": 8,
   "id": "63f6e2c7",
   "metadata": {},
   "outputs": [],
   "source": [
    "import pandas as pd\n",
    "from pathlib import Path\n",
    "import re"
   ]
  },
  {
   "cell_type": "markdown",
   "id": "9ad89110",
   "metadata": {},
   "source": [
    "## Load Data"
   ]
  },
  {
   "cell_type": "code",
   "execution_count": 9,
   "id": "434c69d6",
   "metadata": {},
   "outputs": [],
   "source": [
    "raw_df = pd.read_csv('/work/nlp/report/data/combined_data.csv')\n"
   ]
  },
  {
   "cell_type": "code",
   "execution_count": 10,
   "id": "b53b2534",
   "metadata": {},
   "outputs": [
    {
     "data": {
      "text/html": [
       "<div>\n",
       "<style scoped>\n",
       "    .dataframe tbody tr th:only-of-type {\n",
       "        vertical-align: middle;\n",
       "    }\n",
       "\n",
       "    .dataframe tbody tr th {\n",
       "        vertical-align: top;\n",
       "    }\n",
       "\n",
       "    .dataframe thead th {\n",
       "        text-align: right;\n",
       "    }\n",
       "</style>\n",
       "<table border=\"1\" class=\"dataframe\">\n",
       "  <thead>\n",
       "    <tr style=\"text-align: right;\">\n",
       "      <th></th>\n",
       "      <th>title</th>\n",
       "      <th>text</th>\n",
       "      <th>subject</th>\n",
       "      <th>date</th>\n",
       "      <th>label</th>\n",
       "    </tr>\n",
       "  </thead>\n",
       "  <tbody>\n",
       "    <tr>\n",
       "      <th>0</th>\n",
       "      <td>Tillerson says Saudi Arabia not ready for talk...</td>\n",
       "      <td>DOHA (Reuters) - Saudi Arabia is not yet ready...</td>\n",
       "      <td>worldnews</td>\n",
       "      <td>October 22, 2017</td>\n",
       "      <td>1</td>\n",
       "    </tr>\n",
       "    <tr>\n",
       "      <th>1</th>\n",
       "      <td>CRAZED PROTESTERS Pull Down Confederate Statue...</td>\n",
       "      <td>Crazed lunatic fringe elements of America have...</td>\n",
       "      <td>politics</td>\n",
       "      <td>Aug 14, 2017</td>\n",
       "      <td>0</td>\n",
       "    </tr>\n",
       "    <tr>\n",
       "      <th>2</th>\n",
       "      <td>Trump says U.S. Secretary of State Tillerson n...</td>\n",
       "      <td>WASHINGTON (Reuters) - U.S. Secretary of State...</td>\n",
       "      <td>politicsNews</td>\n",
       "      <td>December 1, 2017</td>\n",
       "      <td>1</td>\n",
       "    </tr>\n",
       "    <tr>\n",
       "      <th>3</th>\n",
       "      <td>BREAKING: John McCain Breaks With His Best Se...</td>\n",
       "      <td>Senator John McCain is battling an aggressive ...</td>\n",
       "      <td>News</td>\n",
       "      <td>September 22, 2017</td>\n",
       "      <td>0</td>\n",
       "    </tr>\n",
       "    <tr>\n",
       "      <th>4</th>\n",
       "      <td>NORDSTROM STOCK TAKES NOSEDIVE After Trump Twe...</td>\n",
       "      <td>UPDATE: Nordstrom stock closed up slightly tod...</td>\n",
       "      <td>politics</td>\n",
       "      <td>Feb 9, 2017</td>\n",
       "      <td>0</td>\n",
       "    </tr>\n",
       "  </tbody>\n",
       "</table>\n",
       "</div>"
      ],
      "text/plain": [
       "                                               title  \\\n",
       "0  Tillerson says Saudi Arabia not ready for talk...   \n",
       "1  CRAZED PROTESTERS Pull Down Confederate Statue...   \n",
       "2  Trump says U.S. Secretary of State Tillerson n...   \n",
       "3   BREAKING: John McCain Breaks With His Best Se...   \n",
       "4  NORDSTROM STOCK TAKES NOSEDIVE After Trump Twe...   \n",
       "\n",
       "                                                text       subject  \\\n",
       "0  DOHA (Reuters) - Saudi Arabia is not yet ready...     worldnews   \n",
       "1  Crazed lunatic fringe elements of America have...      politics   \n",
       "2  WASHINGTON (Reuters) - U.S. Secretary of State...  politicsNews   \n",
       "3  Senator John McCain is battling an aggressive ...          News   \n",
       "4  UPDATE: Nordstrom stock closed up slightly tod...      politics   \n",
       "\n",
       "                 date  label  \n",
       "0   October 22, 2017       1  \n",
       "1        Aug 14, 2017      0  \n",
       "2   December 1, 2017       1  \n",
       "3  September 22, 2017      0  \n",
       "4         Feb 9, 2017      0  "
      ]
     },
     "execution_count": 10,
     "metadata": {},
     "output_type": "execute_result"
    }
   ],
   "source": [
    "raw_df.head()"
   ]
  }
 ],
 "metadata": {
  "kernelspec": {
   "display_name": "Python 3",
   "language": "python",
   "name": "python3"
  },
  "language_info": {
   "codemirror_mode": {
    "name": "ipython",
    "version": 3
   },
   "file_extension": ".py",
   "mimetype": "text/x-python",
   "name": "python",
   "nbconvert_exporter": "python",
   "pygments_lexer": "ipython3",
   "version": "3.12.3"
  }
 },
 "nbformat": 4,
 "nbformat_minor": 5
}
